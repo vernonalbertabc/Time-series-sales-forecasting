{
 "cells": [
  {
   "cell_type": "markdown",
   "metadata": {
    "papermill": {
     "duration": 0.020706,
     "end_time": "2021-08-20T15:34:44.227046",
     "exception": false,
     "start_time": "2021-08-20T15:34:44.206340",
     "status": "completed"
    },
    "tags": []
   },
   "source": [
    "# Libraries"
   ]
  },
  {
   "cell_type": "code",
   "execution_count": 1,
   "metadata": {
    "_cell_guid": "b1076dfc-b9ad-4769-8c92-a6c4dae69d19",
    "_uuid": "8f2839f25d086af736a60e9eeb907d3b93b6e0e5",
    "execution": {
     "iopub.execute_input": "2021-08-20T15:34:44.277425Z",
     "iopub.status.busy": "2021-08-20T15:34:44.276509Z",
     "iopub.status.idle": "2021-08-20T15:34:46.802789Z",
     "shell.execute_reply": "2021-08-20T15:34:46.801780Z",
     "shell.execute_reply.started": "2021-08-20T13:31:18.797351Z"
    },
    "papermill": {
     "duration": 2.555926,
     "end_time": "2021-08-20T15:34:46.803025",
     "exception": false,
     "start_time": "2021-08-20T15:34:44.247099",
     "status": "completed"
    },
    "tags": []
   },
   "outputs": [
    {
     "name": "stderr",
     "output_type": "stream",
     "text": [
      "<ipython-input-1-66f06defed7f>:3: FutureWarning: The pandas.datetime class is deprecated and will be removed from pandas in a future version. Import from datetime module instead.\n",
      "  from pandas import datetime\n"
     ]
    }
   ],
   "source": [
    "import numpy as np # linear algebra\n",
    "import pandas as pd # data processing, CSV file I/O (e.g. pd.read_csv)\n",
    "from pandas import datetime\n",
    "\n",
    "from statsmodels.tsa.seasonal import seasonal_decompose\n",
    "from statsmodels.graphics.tsaplots import plot_acf,plot_pacf\n",
    "\n",
    "from sklearn.model_selection import train_test_split\n",
    "from sklearn.metrics import r2_score,mean_squared_error,mean_absolute_error\n",
    "\n",
    "import matplotlib.pyplot as plt\n",
    "%matplotlib inline\n",
    "\n",
    "from lightgbm import LGBMRegressor\n",
    "\n",
    "import warnings\n",
    "warnings.filterwarnings('ignore')"
   ]
  },
  {
   "cell_type": "code",
   "execution_count": 2,
   "metadata": {
    "execution": {
     "iopub.execute_input": "2021-08-20T15:34:46.848914Z",
     "iopub.status.busy": "2021-08-20T15:34:46.848267Z",
     "iopub.status.idle": "2021-08-20T15:34:46.851088Z",
     "shell.execute_reply": "2021-08-20T15:34:46.851608Z",
     "shell.execute_reply.started": "2021-08-20T13:31:18.8103Z"
    },
    "papermill": {
     "duration": 0.027043,
     "end_time": "2021-08-20T15:34:46.851791",
     "exception": false,
     "start_time": "2021-08-20T15:34:46.824748",
     "status": "completed"
    },
    "tags": []
   },
   "outputs": [],
   "source": [
    "# https://www.kaggle.com/pinardogan/time-series-using-lightgbm-with-explanations\n",
    "# https://timeseriesreasoning.com/contents/regression-with-arima-errors-model/\n",
    "# https://machinelearningmastery.com/model-residual-errors-correct-time-series-forecasts-python/"
   ]
  },
  {
   "cell_type": "markdown",
   "metadata": {
    "papermill": {
     "duration": 0.021299,
     "end_time": "2021-08-20T15:34:46.895386",
     "exception": false,
     "start_time": "2021-08-20T15:34:46.874087",
     "status": "completed"
    },
    "tags": []
   },
   "source": [
    "# Read data, preprocessing and time series feature extraction"
   ]
  },
  {
   "cell_type": "code",
   "execution_count": 3,
   "metadata": {
    "execution": {
     "iopub.execute_input": "2021-08-20T15:34:46.941175Z",
     "iopub.status.busy": "2021-08-20T15:34:46.940428Z",
     "iopub.status.idle": "2021-08-20T15:34:48.140355Z",
     "shell.execute_reply": "2021-08-20T15:34:48.139528Z",
     "shell.execute_reply.started": "2021-08-20T13:31:18.831577Z"
    },
    "papermill": {
     "duration": 1.223651,
     "end_time": "2021-08-20T15:34:48.140505",
     "exception": false,
     "start_time": "2021-08-20T15:34:46.916854",
     "status": "completed"
    },
    "tags": []
   },
   "outputs": [],
   "source": [
    "store_df = pd.read_csv(\"store.csv\")\n",
    "data_df = pd.read_csv(\"train.csv\")"
   ]
  },
  {
   "cell_type": "code",
   "execution_count": 4,
   "metadata": {
    "execution": {
     "iopub.execute_input": "2021-08-20T15:34:48.193766Z",
     "iopub.status.busy": "2021-08-20T15:34:48.193037Z",
     "iopub.status.idle": "2021-08-20T15:34:48.219256Z",
     "shell.execute_reply": "2021-08-20T15:34:48.219752Z",
     "shell.execute_reply.started": "2021-08-20T13:31:19.524665Z"
    },
    "papermill": {
     "duration": 0.056581,
     "end_time": "2021-08-20T15:34:48.219949",
     "exception": false,
     "start_time": "2021-08-20T15:34:48.163368",
     "status": "completed"
    },
    "tags": []
   },
   "outputs": [
    {
     "data": {
      "text/html": [
       "<div>\n",
       "<style scoped>\n",
       "    .dataframe tbody tr th:only-of-type {\n",
       "        vertical-align: middle;\n",
       "    }\n",
       "\n",
       "    .dataframe tbody tr th {\n",
       "        vertical-align: top;\n",
       "    }\n",
       "\n",
       "    .dataframe thead th {\n",
       "        text-align: right;\n",
       "    }\n",
       "</style>\n",
       "<table border=\"1\" class=\"dataframe\">\n",
       "  <thead>\n",
       "    <tr style=\"text-align: right;\">\n",
       "      <th></th>\n",
       "      <th>Store</th>\n",
       "      <th>StoreType</th>\n",
       "      <th>Assortment</th>\n",
       "      <th>CompetitionDistance</th>\n",
       "      <th>CompetitionOpenSinceMonth</th>\n",
       "      <th>CompetitionOpenSinceYear</th>\n",
       "      <th>Promo2</th>\n",
       "      <th>Promo2SinceWeek</th>\n",
       "      <th>Promo2SinceYear</th>\n",
       "      <th>PromoInterval</th>\n",
       "    </tr>\n",
       "  </thead>\n",
       "  <tbody>\n",
       "    <tr>\n",
       "      <th>0</th>\n",
       "      <td>1</td>\n",
       "      <td>c</td>\n",
       "      <td>a</td>\n",
       "      <td>1270.0</td>\n",
       "      <td>9.0</td>\n",
       "      <td>2008.0</td>\n",
       "      <td>0</td>\n",
       "      <td>NaN</td>\n",
       "      <td>NaN</td>\n",
       "      <td>NaN</td>\n",
       "    </tr>\n",
       "    <tr>\n",
       "      <th>1</th>\n",
       "      <td>2</td>\n",
       "      <td>a</td>\n",
       "      <td>a</td>\n",
       "      <td>570.0</td>\n",
       "      <td>11.0</td>\n",
       "      <td>2007.0</td>\n",
       "      <td>1</td>\n",
       "      <td>13.0</td>\n",
       "      <td>2010.0</td>\n",
       "      <td>Jan,Apr,Jul,Oct</td>\n",
       "    </tr>\n",
       "    <tr>\n",
       "      <th>2</th>\n",
       "      <td>3</td>\n",
       "      <td>a</td>\n",
       "      <td>a</td>\n",
       "      <td>14130.0</td>\n",
       "      <td>12.0</td>\n",
       "      <td>2006.0</td>\n",
       "      <td>1</td>\n",
       "      <td>14.0</td>\n",
       "      <td>2011.0</td>\n",
       "      <td>Jan,Apr,Jul,Oct</td>\n",
       "    </tr>\n",
       "    <tr>\n",
       "      <th>3</th>\n",
       "      <td>4</td>\n",
       "      <td>c</td>\n",
       "      <td>c</td>\n",
       "      <td>620.0</td>\n",
       "      <td>9.0</td>\n",
       "      <td>2009.0</td>\n",
       "      <td>0</td>\n",
       "      <td>NaN</td>\n",
       "      <td>NaN</td>\n",
       "      <td>NaN</td>\n",
       "    </tr>\n",
       "    <tr>\n",
       "      <th>4</th>\n",
       "      <td>5</td>\n",
       "      <td>a</td>\n",
       "      <td>a</td>\n",
       "      <td>29910.0</td>\n",
       "      <td>4.0</td>\n",
       "      <td>2015.0</td>\n",
       "      <td>0</td>\n",
       "      <td>NaN</td>\n",
       "      <td>NaN</td>\n",
       "      <td>NaN</td>\n",
       "    </tr>\n",
       "  </tbody>\n",
       "</table>\n",
       "</div>"
      ],
      "text/plain": [
       "   Store StoreType Assortment  CompetitionDistance  CompetitionOpenSinceMonth  \\\n",
       "0      1         c          a               1270.0                        9.0   \n",
       "1      2         a          a                570.0                       11.0   \n",
       "2      3         a          a              14130.0                       12.0   \n",
       "3      4         c          c                620.0                        9.0   \n",
       "4      5         a          a              29910.0                        4.0   \n",
       "\n",
       "   CompetitionOpenSinceYear  Promo2  Promo2SinceWeek  Promo2SinceYear  \\\n",
       "0                    2008.0       0              NaN              NaN   \n",
       "1                    2007.0       1             13.0           2010.0   \n",
       "2                    2006.0       1             14.0           2011.0   \n",
       "3                    2009.0       0              NaN              NaN   \n",
       "4                    2015.0       0              NaN              NaN   \n",
       "\n",
       "     PromoInterval  \n",
       "0              NaN  \n",
       "1  Jan,Apr,Jul,Oct  \n",
       "2  Jan,Apr,Jul,Oct  \n",
       "3              NaN  \n",
       "4              NaN  "
      ]
     },
     "execution_count": 4,
     "metadata": {},
     "output_type": "execute_result"
    }
   ],
   "source": [
    "store_df.head(5)"
   ]
  },
  {
   "cell_type": "code",
   "execution_count": 5,
   "metadata": {
    "execution": {
     "iopub.execute_input": "2021-08-20T15:34:48.275841Z",
     "iopub.status.busy": "2021-08-20T15:34:48.274937Z",
     "iopub.status.idle": "2021-08-20T15:34:48.279259Z",
     "shell.execute_reply": "2021-08-20T15:34:48.278728Z",
     "shell.execute_reply.started": "2021-08-20T13:31:19.543417Z"
    },
    "papermill": {
     "duration": 0.038105,
     "end_time": "2021-08-20T15:34:48.279401",
     "exception": false,
     "start_time": "2021-08-20T15:34:48.241296",
     "status": "completed"
    },
    "tags": []
   },
   "outputs": [
    {
     "data": {
      "text/html": [
       "<div>\n",
       "<style scoped>\n",
       "    .dataframe tbody tr th:only-of-type {\n",
       "        vertical-align: middle;\n",
       "    }\n",
       "\n",
       "    .dataframe tbody tr th {\n",
       "        vertical-align: top;\n",
       "    }\n",
       "\n",
       "    .dataframe thead th {\n",
       "        text-align: right;\n",
       "    }\n",
       "</style>\n",
       "<table border=\"1\" class=\"dataframe\">\n",
       "  <thead>\n",
       "    <tr style=\"text-align: right;\">\n",
       "      <th></th>\n",
       "      <th>Store</th>\n",
       "      <th>DayOfWeek</th>\n",
       "      <th>Date</th>\n",
       "      <th>Sales</th>\n",
       "      <th>Customers</th>\n",
       "      <th>Open</th>\n",
       "      <th>Promo</th>\n",
       "      <th>StateHoliday</th>\n",
       "      <th>SchoolHoliday</th>\n",
       "    </tr>\n",
       "  </thead>\n",
       "  <tbody>\n",
       "    <tr>\n",
       "      <th>0</th>\n",
       "      <td>1</td>\n",
       "      <td>5</td>\n",
       "      <td>2015-07-31</td>\n",
       "      <td>5263</td>\n",
       "      <td>555</td>\n",
       "      <td>1</td>\n",
       "      <td>1</td>\n",
       "      <td>0</td>\n",
       "      <td>1</td>\n",
       "    </tr>\n",
       "    <tr>\n",
       "      <th>1</th>\n",
       "      <td>2</td>\n",
       "      <td>5</td>\n",
       "      <td>2015-07-31</td>\n",
       "      <td>6064</td>\n",
       "      <td>625</td>\n",
       "      <td>1</td>\n",
       "      <td>1</td>\n",
       "      <td>0</td>\n",
       "      <td>1</td>\n",
       "    </tr>\n",
       "    <tr>\n",
       "      <th>2</th>\n",
       "      <td>3</td>\n",
       "      <td>5</td>\n",
       "      <td>2015-07-31</td>\n",
       "      <td>8314</td>\n",
       "      <td>821</td>\n",
       "      <td>1</td>\n",
       "      <td>1</td>\n",
       "      <td>0</td>\n",
       "      <td>1</td>\n",
       "    </tr>\n",
       "    <tr>\n",
       "      <th>3</th>\n",
       "      <td>4</td>\n",
       "      <td>5</td>\n",
       "      <td>2015-07-31</td>\n",
       "      <td>13995</td>\n",
       "      <td>1498</td>\n",
       "      <td>1</td>\n",
       "      <td>1</td>\n",
       "      <td>0</td>\n",
       "      <td>1</td>\n",
       "    </tr>\n",
       "    <tr>\n",
       "      <th>4</th>\n",
       "      <td>5</td>\n",
       "      <td>5</td>\n",
       "      <td>2015-07-31</td>\n",
       "      <td>4822</td>\n",
       "      <td>559</td>\n",
       "      <td>1</td>\n",
       "      <td>1</td>\n",
       "      <td>0</td>\n",
       "      <td>1</td>\n",
       "    </tr>\n",
       "  </tbody>\n",
       "</table>\n",
       "</div>"
      ],
      "text/plain": [
       "   Store  DayOfWeek        Date  Sales  Customers  Open  Promo StateHoliday  \\\n",
       "0      1          5  2015-07-31   5263        555     1      1            0   \n",
       "1      2          5  2015-07-31   6064        625     1      1            0   \n",
       "2      3          5  2015-07-31   8314        821     1      1            0   \n",
       "3      4          5  2015-07-31  13995       1498     1      1            0   \n",
       "4      5          5  2015-07-31   4822        559     1      1            0   \n",
       "\n",
       "   SchoolHoliday  \n",
       "0              1  \n",
       "1              1  \n",
       "2              1  \n",
       "3              1  \n",
       "4              1  "
      ]
     },
     "execution_count": 5,
     "metadata": {},
     "output_type": "execute_result"
    }
   ],
   "source": [
    "data_df.head(5)"
   ]
  },
  {
   "cell_type": "code",
   "execution_count": 6,
   "metadata": {
    "execution": {
     "iopub.execute_input": "2021-08-20T15:34:48.328908Z",
     "iopub.status.busy": "2021-08-20T15:34:48.327871Z",
     "iopub.status.idle": "2021-08-20T15:34:48.544872Z",
     "shell.execute_reply": "2021-08-20T15:34:48.544218Z",
     "shell.execute_reply.started": "2021-08-20T13:31:19.563535Z"
    },
    "papermill": {
     "duration": 0.243786,
     "end_time": "2021-08-20T15:34:48.545023",
     "exception": false,
     "start_time": "2021-08-20T15:34:48.301237",
     "status": "completed"
    },
    "tags": []
   },
   "outputs": [
    {
     "name": "stdout",
     "output_type": "stream",
     "text": [
      "Store            0\n",
      "DayOfWeek        0\n",
      "Date             0\n",
      "Sales            0\n",
      "Customers        0\n",
      "Open             0\n",
      "Promo            0\n",
      "StateHoliday     0\n",
      "SchoolHoliday    0\n",
      "dtype: int64\n",
      "Store                          0\n",
      "StoreType                      0\n",
      "Assortment                     0\n",
      "CompetitionDistance            3\n",
      "CompetitionOpenSinceMonth    354\n",
      "CompetitionOpenSinceYear     354\n",
      "Promo2                         0\n",
      "Promo2SinceWeek              544\n",
      "Promo2SinceYear              544\n",
      "PromoInterval                544\n",
      "dtype: int64\n"
     ]
    }
   ],
   "source": [
    "print(data_df.isna().sum())\n",
    "print(store_df.isna().sum())"
   ]
  },
  {
   "cell_type": "code",
   "execution_count": 7,
   "metadata": {
    "execution": {
     "iopub.execute_input": "2021-08-20T15:34:48.657468Z",
     "iopub.status.busy": "2021-08-20T15:34:48.656423Z",
     "iopub.status.idle": "2021-08-20T15:34:49.409643Z",
     "shell.execute_reply": "2021-08-20T15:34:49.409003Z",
     "shell.execute_reply.started": "2021-08-20T13:31:19.666794Z"
    },
    "papermill": {
     "duration": 0.842725,
     "end_time": "2021-08-20T15:34:49.409782",
     "exception": false,
     "start_time": "2021-08-20T15:34:48.567057",
     "status": "completed"
    },
    "tags": []
   },
   "outputs": [
    {
     "data": {
      "text/html": [
       "<div>\n",
       "<style scoped>\n",
       "    .dataframe tbody tr th:only-of-type {\n",
       "        vertical-align: middle;\n",
       "    }\n",
       "\n",
       "    .dataframe tbody tr th {\n",
       "        vertical-align: top;\n",
       "    }\n",
       "\n",
       "    .dataframe thead th {\n",
       "        text-align: right;\n",
       "    }\n",
       "</style>\n",
       "<table border=\"1\" class=\"dataframe\">\n",
       "  <thead>\n",
       "    <tr style=\"text-align: right;\">\n",
       "      <th></th>\n",
       "      <th>Store</th>\n",
       "      <th>DayOfWeek</th>\n",
       "      <th>Date</th>\n",
       "      <th>Sales</th>\n",
       "      <th>Customers</th>\n",
       "      <th>Open</th>\n",
       "      <th>Promo</th>\n",
       "      <th>StateHoliday</th>\n",
       "      <th>SchoolHoliday</th>\n",
       "      <th>Year</th>\n",
       "      <th>Month</th>\n",
       "      <th>Week</th>\n",
       "    </tr>\n",
       "  </thead>\n",
       "  <tbody>\n",
       "    <tr>\n",
       "      <th>0</th>\n",
       "      <td>1</td>\n",
       "      <td>5</td>\n",
       "      <td>2015-07-31</td>\n",
       "      <td>5263</td>\n",
       "      <td>555</td>\n",
       "      <td>1</td>\n",
       "      <td>1</td>\n",
       "      <td>0</td>\n",
       "      <td>1</td>\n",
       "      <td>2015</td>\n",
       "      <td>July</td>\n",
       "      <td>31</td>\n",
       "    </tr>\n",
       "    <tr>\n",
       "      <th>1</th>\n",
       "      <td>2</td>\n",
       "      <td>5</td>\n",
       "      <td>2015-07-31</td>\n",
       "      <td>6064</td>\n",
       "      <td>625</td>\n",
       "      <td>1</td>\n",
       "      <td>1</td>\n",
       "      <td>0</td>\n",
       "      <td>1</td>\n",
       "      <td>2015</td>\n",
       "      <td>July</td>\n",
       "      <td>31</td>\n",
       "    </tr>\n",
       "    <tr>\n",
       "      <th>2</th>\n",
       "      <td>3</td>\n",
       "      <td>5</td>\n",
       "      <td>2015-07-31</td>\n",
       "      <td>8314</td>\n",
       "      <td>821</td>\n",
       "      <td>1</td>\n",
       "      <td>1</td>\n",
       "      <td>0</td>\n",
       "      <td>1</td>\n",
       "      <td>2015</td>\n",
       "      <td>July</td>\n",
       "      <td>31</td>\n",
       "    </tr>\n",
       "    <tr>\n",
       "      <th>3</th>\n",
       "      <td>4</td>\n",
       "      <td>5</td>\n",
       "      <td>2015-07-31</td>\n",
       "      <td>13995</td>\n",
       "      <td>1498</td>\n",
       "      <td>1</td>\n",
       "      <td>1</td>\n",
       "      <td>0</td>\n",
       "      <td>1</td>\n",
       "      <td>2015</td>\n",
       "      <td>July</td>\n",
       "      <td>31</td>\n",
       "    </tr>\n",
       "    <tr>\n",
       "      <th>4</th>\n",
       "      <td>5</td>\n",
       "      <td>5</td>\n",
       "      <td>2015-07-31</td>\n",
       "      <td>4822</td>\n",
       "      <td>559</td>\n",
       "      <td>1</td>\n",
       "      <td>1</td>\n",
       "      <td>0</td>\n",
       "      <td>1</td>\n",
       "      <td>2015</td>\n",
       "      <td>July</td>\n",
       "      <td>31</td>\n",
       "    </tr>\n",
       "  </tbody>\n",
       "</table>\n",
       "</div>"
      ],
      "text/plain": [
       "   Store  DayOfWeek       Date  Sales  Customers  Open  Promo StateHoliday  \\\n",
       "0      1          5 2015-07-31   5263        555     1      1            0   \n",
       "1      2          5 2015-07-31   6064        625     1      1            0   \n",
       "2      3          5 2015-07-31   8314        821     1      1            0   \n",
       "3      4          5 2015-07-31  13995       1498     1      1            0   \n",
       "4      5          5 2015-07-31   4822        559     1      1            0   \n",
       "\n",
       "   SchoolHoliday  Year Month  Week  \n",
       "0              1  2015  July    31  \n",
       "1              1  2015  July    31  \n",
       "2              1  2015  July    31  \n",
       "3              1  2015  July    31  \n",
       "4              1  2015  July    31  "
      ]
     },
     "execution_count": 7,
     "metadata": {},
     "output_type": "execute_result"
    }
   ],
   "source": [
    "# Preliminary date transformations\n",
    "data_df[\"Date\"] = pd.to_datetime(data_df[\"Date\"])\n",
    "data_df[\"Year\"] = data_df.Date.dt.year\n",
    "data_df[\"Month\"] = data_df.Date.dt.month_name()\n",
    "data_df[\"Week\"] = data_df.Date.dt.week\n",
    "data_df.head(5)"
   ]
  },
  {
   "cell_type": "code",
   "execution_count": 8,
   "metadata": {
    "execution": {
     "iopub.execute_input": "2021-08-20T15:34:49.468009Z",
     "iopub.status.busy": "2021-08-20T15:34:49.465011Z",
     "iopub.status.idle": "2021-08-20T15:34:50.175067Z",
     "shell.execute_reply": "2021-08-20T15:34:50.174454Z",
     "shell.execute_reply.started": "2021-08-20T13:31:20.388075Z"
    },
    "papermill": {
     "duration": 0.742274,
     "end_time": "2021-08-20T15:34:50.175206",
     "exception": false,
     "start_time": "2021-08-20T15:34:49.432932",
     "status": "completed"
    },
    "tags": []
   },
   "outputs": [
    {
     "data": {
      "text/html": [
       "<div>\n",
       "<style scoped>\n",
       "    .dataframe tbody tr th:only-of-type {\n",
       "        vertical-align: middle;\n",
       "    }\n",
       "\n",
       "    .dataframe tbody tr th {\n",
       "        vertical-align: top;\n",
       "    }\n",
       "\n",
       "    .dataframe thead th {\n",
       "        text-align: right;\n",
       "    }\n",
       "</style>\n",
       "<table border=\"1\" class=\"dataframe\">\n",
       "  <thead>\n",
       "    <tr style=\"text-align: right;\">\n",
       "      <th></th>\n",
       "      <th>Store</th>\n",
       "      <th>DayOfWeek</th>\n",
       "      <th>Date</th>\n",
       "      <th>Sales</th>\n",
       "      <th>Customers</th>\n",
       "      <th>Open</th>\n",
       "      <th>Promo</th>\n",
       "      <th>StateHoliday</th>\n",
       "      <th>SchoolHoliday</th>\n",
       "      <th>Year</th>\n",
       "      <th>...</th>\n",
       "      <th>Week</th>\n",
       "      <th>StoreType</th>\n",
       "      <th>Assortment</th>\n",
       "      <th>CompetitionDistance</th>\n",
       "      <th>CompetitionOpenSinceMonth</th>\n",
       "      <th>CompetitionOpenSinceYear</th>\n",
       "      <th>Promo2</th>\n",
       "      <th>Promo2SinceWeek</th>\n",
       "      <th>Promo2SinceYear</th>\n",
       "      <th>PromoInterval</th>\n",
       "    </tr>\n",
       "  </thead>\n",
       "  <tbody>\n",
       "    <tr>\n",
       "      <th>0</th>\n",
       "      <td>1</td>\n",
       "      <td>5</td>\n",
       "      <td>2015-07-31</td>\n",
       "      <td>5263</td>\n",
       "      <td>555</td>\n",
       "      <td>1</td>\n",
       "      <td>1</td>\n",
       "      <td>0</td>\n",
       "      <td>1</td>\n",
       "      <td>2015</td>\n",
       "      <td>...</td>\n",
       "      <td>31</td>\n",
       "      <td>c</td>\n",
       "      <td>a</td>\n",
       "      <td>1270.0</td>\n",
       "      <td>9.0</td>\n",
       "      <td>2008.0</td>\n",
       "      <td>0</td>\n",
       "      <td>NaN</td>\n",
       "      <td>NaN</td>\n",
       "      <td>NaN</td>\n",
       "    </tr>\n",
       "    <tr>\n",
       "      <th>1</th>\n",
       "      <td>1</td>\n",
       "      <td>4</td>\n",
       "      <td>2015-07-30</td>\n",
       "      <td>5020</td>\n",
       "      <td>546</td>\n",
       "      <td>1</td>\n",
       "      <td>1</td>\n",
       "      <td>0</td>\n",
       "      <td>1</td>\n",
       "      <td>2015</td>\n",
       "      <td>...</td>\n",
       "      <td>31</td>\n",
       "      <td>c</td>\n",
       "      <td>a</td>\n",
       "      <td>1270.0</td>\n",
       "      <td>9.0</td>\n",
       "      <td>2008.0</td>\n",
       "      <td>0</td>\n",
       "      <td>NaN</td>\n",
       "      <td>NaN</td>\n",
       "      <td>NaN</td>\n",
       "    </tr>\n",
       "    <tr>\n",
       "      <th>2</th>\n",
       "      <td>1</td>\n",
       "      <td>3</td>\n",
       "      <td>2015-07-29</td>\n",
       "      <td>4782</td>\n",
       "      <td>523</td>\n",
       "      <td>1</td>\n",
       "      <td>1</td>\n",
       "      <td>0</td>\n",
       "      <td>1</td>\n",
       "      <td>2015</td>\n",
       "      <td>...</td>\n",
       "      <td>31</td>\n",
       "      <td>c</td>\n",
       "      <td>a</td>\n",
       "      <td>1270.0</td>\n",
       "      <td>9.0</td>\n",
       "      <td>2008.0</td>\n",
       "      <td>0</td>\n",
       "      <td>NaN</td>\n",
       "      <td>NaN</td>\n",
       "      <td>NaN</td>\n",
       "    </tr>\n",
       "    <tr>\n",
       "      <th>3</th>\n",
       "      <td>1</td>\n",
       "      <td>2</td>\n",
       "      <td>2015-07-28</td>\n",
       "      <td>5011</td>\n",
       "      <td>560</td>\n",
       "      <td>1</td>\n",
       "      <td>1</td>\n",
       "      <td>0</td>\n",
       "      <td>1</td>\n",
       "      <td>2015</td>\n",
       "      <td>...</td>\n",
       "      <td>31</td>\n",
       "      <td>c</td>\n",
       "      <td>a</td>\n",
       "      <td>1270.0</td>\n",
       "      <td>9.0</td>\n",
       "      <td>2008.0</td>\n",
       "      <td>0</td>\n",
       "      <td>NaN</td>\n",
       "      <td>NaN</td>\n",
       "      <td>NaN</td>\n",
       "    </tr>\n",
       "    <tr>\n",
       "      <th>4</th>\n",
       "      <td>1</td>\n",
       "      <td>1</td>\n",
       "      <td>2015-07-27</td>\n",
       "      <td>6102</td>\n",
       "      <td>612</td>\n",
       "      <td>1</td>\n",
       "      <td>1</td>\n",
       "      <td>0</td>\n",
       "      <td>1</td>\n",
       "      <td>2015</td>\n",
       "      <td>...</td>\n",
       "      <td>31</td>\n",
       "      <td>c</td>\n",
       "      <td>a</td>\n",
       "      <td>1270.0</td>\n",
       "      <td>9.0</td>\n",
       "      <td>2008.0</td>\n",
       "      <td>0</td>\n",
       "      <td>NaN</td>\n",
       "      <td>NaN</td>\n",
       "      <td>NaN</td>\n",
       "    </tr>\n",
       "  </tbody>\n",
       "</table>\n",
       "<p>5 rows × 21 columns</p>\n",
       "</div>"
      ],
      "text/plain": [
       "   Store  DayOfWeek       Date  Sales  Customers  Open  Promo StateHoliday  \\\n",
       "0      1          5 2015-07-31   5263        555     1      1            0   \n",
       "1      1          4 2015-07-30   5020        546     1      1            0   \n",
       "2      1          3 2015-07-29   4782        523     1      1            0   \n",
       "3      1          2 2015-07-28   5011        560     1      1            0   \n",
       "4      1          1 2015-07-27   6102        612     1      1            0   \n",
       "\n",
       "   SchoolHoliday  Year  ... Week  StoreType Assortment CompetitionDistance  \\\n",
       "0              1  2015  ...   31          c          a              1270.0   \n",
       "1              1  2015  ...   31          c          a              1270.0   \n",
       "2              1  2015  ...   31          c          a              1270.0   \n",
       "3              1  2015  ...   31          c          a              1270.0   \n",
       "4              1  2015  ...   31          c          a              1270.0   \n",
       "\n",
       "   CompetitionOpenSinceMonth  CompetitionOpenSinceYear  Promo2  \\\n",
       "0                        9.0                    2008.0       0   \n",
       "1                        9.0                    2008.0       0   \n",
       "2                        9.0                    2008.0       0   \n",
       "3                        9.0                    2008.0       0   \n",
       "4                        9.0                    2008.0       0   \n",
       "\n",
       "   Promo2SinceWeek  Promo2SinceYear  PromoInterval  \n",
       "0              NaN              NaN            NaN  \n",
       "1              NaN              NaN            NaN  \n",
       "2              NaN              NaN            NaN  \n",
       "3              NaN              NaN            NaN  \n",
       "4              NaN              NaN            NaN  \n",
       "\n",
       "[5 rows x 21 columns]"
      ]
     },
     "execution_count": 8,
     "metadata": {},
     "output_type": "execute_result"
    }
   ],
   "source": [
    "# Merge according to store id\n",
    "train_df = pd.merge(data_df,store_df)\n",
    "train_df.head(5)"
   ]
  },
  {
   "cell_type": "code",
   "execution_count": 9,
   "metadata": {
    "execution": {
     "iopub.execute_input": "2021-08-20T15:34:50.228794Z",
     "iopub.status.busy": "2021-08-20T15:34:50.228129Z",
     "iopub.status.idle": "2021-08-20T15:36:04.883061Z",
     "shell.execute_reply": "2021-08-20T15:36:04.882380Z",
     "shell.execute_reply.started": "2021-08-20T13:31:21.165419Z"
    },
    "papermill": {
     "duration": 74.684662,
     "end_time": "2021-08-20T15:36:04.883240",
     "exception": false,
     "start_time": "2021-08-20T15:34:50.198578",
     "status": "completed"
    },
    "tags": []
   },
   "outputs": [],
   "source": [
    "# Promo 2 for only certain conditions\n",
    "train_df[\"PromoInterval\"] = train_df[\"PromoInterval\"].apply(str)\n",
    "train_df[\"PromoInterval\"] = train_df[\"PromoInterval\"].apply(lambda x:x.split(\",\"))\n",
    "train_df[\"Month\"] = train_df[\"Month\"].apply(lambda x:x[0:3])\n",
    "train_df[\"Promo2\"] = train_df.apply(lambda x: (x.Month in x.PromoInterval) & (x.Week>x.Promo2SinceWeek) & \n",
    "                                    (x.Year>x.Promo2SinceYear) ,axis=1)"
   ]
  },
  {
   "cell_type": "code",
   "execution_count": 10,
   "metadata": {
    "execution": {
     "iopub.execute_input": "2021-08-20T15:36:04.941186Z",
     "iopub.status.busy": "2021-08-20T15:36:04.940107Z",
     "iopub.status.idle": "2021-08-20T15:36:04.943208Z",
     "shell.execute_reply": "2021-08-20T15:36:04.944106Z",
     "shell.execute_reply.started": "2021-08-20T13:32:11.074027Z"
    },
    "papermill": {
     "duration": 0.036303,
     "end_time": "2021-08-20T15:36:04.944315",
     "exception": false,
     "start_time": "2021-08-20T15:36:04.908012",
     "status": "completed"
    },
    "tags": []
   },
   "outputs": [],
   "source": [
    "def create_date_features(df):\n",
    "    \n",
    "    '''\n",
    "    Returns a dataframe with additional datetime features\n",
    "\n",
    "    Args:\n",
    "        df (pd.DataFrame): Orginal merged dataframe\n",
    "     \n",
    "    Returns:\n",
    "        df (pd.DataFrame): Dataframe with additional time features\n",
    "    '''\n",
    "    \n",
    "    df['day_of_month'] = df.Date.dt.day\n",
    "    df['day_of_year'] = df.Date.dt.dayofyear\n",
    "    df['week_of_year'] = df.Date.dt.weekofyear    \n",
    "    df['day_of_week'] = df.Date.dt.dayofweek + 1\n",
    "    df['day_name'] = df.Date.dt.day_name\n",
    "    df[\"is_weekend\"] = df.day_name.isin([\"Saturday\",\"Sunday\"]).astype(\"int\")\n",
    "    df['is_month_start'] = df.Date.dt.is_month_start.astype(int)\n",
    "    df['is_month_end'] = df.Date.dt.is_month_end.astype(int)\n",
    "    \n",
    "    return df"
   ]
  },
  {
   "cell_type": "code",
   "execution_count": 11,
   "metadata": {
    "execution": {
     "iopub.execute_input": "2021-08-20T15:36:04.995651Z",
     "iopub.status.busy": "2021-08-20T15:36:04.994633Z",
     "iopub.status.idle": "2021-08-20T15:36:05.000150Z",
     "shell.execute_reply": "2021-08-20T15:36:05.000670Z",
     "shell.execute_reply.started": "2021-08-20T13:32:11.081739Z"
    },
    "papermill": {
     "duration": 0.032889,
     "end_time": "2021-08-20T15:36:05.000893",
     "exception": false,
     "start_time": "2021-08-20T15:36:04.968004",
     "status": "completed"
    },
    "tags": []
   },
   "outputs": [],
   "source": [
    "def lag_features(dataframe, lags):\n",
    "    \n",
    "    '''\n",
    "    Returns a dataframe with additional lagging features for sales\n",
    "\n",
    "    Args:\n",
    "        df (pd.DataFrame): Orginal dataframe\n",
    "        lags (int): Number of lag features to create with regard to sales\n",
    "     \n",
    "    Returns:\n",
    "        df (pd.DataFrame): Dataframe with additional lagged sales features\n",
    "    '''\n",
    "    \n",
    "    for lag in lags:\n",
    "        dataframe['sales_lag_' + str(lag)] = dataframe.groupby([\"Store\"])['Sales'].transform(\n",
    "            lambda x: x.shift(lag))\n",
    "        \n",
    "        #dataframe['sales_lag_' + str(lag)] = dataframe['sales_lag_' + str(lag)].fillna(value=0)\n",
    "    return dataframe\n",
    "\n"
   ]
  },
  {
   "cell_type": "code",
   "execution_count": 12,
   "metadata": {
    "execution": {
     "iopub.execute_input": "2021-08-20T15:36:05.053340Z",
     "iopub.status.busy": "2021-08-20T15:36:05.052358Z",
     "iopub.status.idle": "2021-08-20T15:36:05.058309Z",
     "shell.execute_reply": "2021-08-20T15:36:05.058815Z",
     "shell.execute_reply.started": "2021-08-20T13:32:11.099964Z"
    },
    "papermill": {
     "duration": 0.03405,
     "end_time": "2021-08-20T15:36:05.059000",
     "exception": false,
     "start_time": "2021-08-20T15:36:05.024950",
     "status": "completed"
    },
    "tags": []
   },
   "outputs": [],
   "source": [
    "def roll_mean_features(dataframe, windows):\n",
    "    \n",
    "    '''\n",
    "    Returns a dataframe with additional rolling mean features\n",
    "    \n",
    "\n",
    "    Args:\n",
    "        df (pd.DataFrame): Orginal dataframe\n",
    "        windows (int): The number of observations used for calculating the mean\n",
    "        \n",
    "     \n",
    "    Returns:\n",
    "        df (pd.DataFrame): Dataframe with additional rolling mean features\n",
    "    '''\n",
    "    \n",
    "    for window in windows:\n",
    "        dataframe['sales_roll_mean_' + str(window)] = dataframe.groupby([\"Store\"])['Sales']. \\\n",
    "                                                          transform(\n",
    "            lambda x: x.rolling(window=window).mean()) \n",
    "        \n",
    "        #dataframe['sales_roll_mean_' + str(window)] = dataframe['sales_roll_mean_' + str(window)].fillna(value=0)\n",
    "    return dataframe"
   ]
  },
  {
   "cell_type": "code",
   "execution_count": 13,
   "metadata": {
    "execution": {
     "iopub.execute_input": "2021-08-20T15:36:05.114285Z",
     "iopub.status.busy": "2021-08-20T15:36:05.113067Z",
     "iopub.status.idle": "2021-08-20T15:36:05.116379Z",
     "shell.execute_reply": "2021-08-20T15:36:05.115832Z",
     "shell.execute_reply.started": "2021-08-20T13:32:11.11284Z"
    },
    "papermill": {
     "duration": 0.033975,
     "end_time": "2021-08-20T15:36:05.116537",
     "exception": false,
     "start_time": "2021-08-20T15:36:05.082562",
     "status": "completed"
    },
    "tags": []
   },
   "outputs": [],
   "source": [
    "def ewm_features(dataframe, alphas, lags):\n",
    "    \n",
    "    '''\n",
    "    Returns a dataframe with additional exponential lagging features for sales\n",
    "    weighted_average[i] = (1-alpha)*weighted_average[i-1] + alpha*arg[i]\n",
    "\n",
    "    Args:\n",
    "        df (pd.DataFrame): Orginal dataframe\n",
    "        lags (int): Number of lag features to create with regard to sales\n",
    "        alphas (float): Coeffecient for exponential smoothing\n",
    "     \n",
    "    Returns:\n",
    "        df (pd.DataFrame): Dataframe with additional exponential lagged sales features\n",
    "    '''\n",
    "    \n",
    "    \n",
    "    dataframe = dataframe.copy()\n",
    "    for alpha in alphas:\n",
    "        for lag in lags:\n",
    "            dataframe['sales_ewm_alpha_' + str(alpha).replace(\".\", \"\") + \"_lag_\" + str(lag)] = \\\n",
    "                dataframe.groupby([\"Store\"])['Sales']. \\\n",
    "                    transform(lambda x: x.shift(lag).ewm(alpha=alpha,adjust=False).mean())\n",
    "            \n",
    "            #dataframe['sales_ewm_alpha_' + str(alpha).replace(\".\", \"\") + \"_lag_\" + str(lag)] = \\\n",
    "            #dataframe['sales_ewm_alpha_' + str(alpha).replace(\".\", \"\") + \"_lag_\" + str(lag)].fillna(value=0)\n",
    "    return dataframe"
   ]
  },
  {
   "cell_type": "code",
   "execution_count": 14,
   "metadata": {
    "execution": {
     "iopub.execute_input": "2021-08-20T15:36:05.172160Z",
     "iopub.status.busy": "2021-08-20T15:36:05.171241Z",
     "iopub.status.idle": "2021-08-20T15:36:06.771258Z",
     "shell.execute_reply": "2021-08-20T15:36:06.771784Z",
     "shell.execute_reply.started": "2021-08-20T13:32:11.129157Z"
    },
    "papermill": {
     "duration": 1.630742,
     "end_time": "2021-08-20T15:36:06.771970",
     "exception": false,
     "start_time": "2021-08-20T15:36:05.141228",
     "status": "completed"
    },
    "tags": []
   },
   "outputs": [
    {
     "data": {
      "image/png": "[encoded data removed]",
      "text/plain": [
       "<Figure size 864x576 with 1 Axes>"
      ]
     },
     "metadata": {
      "needs_background": "light"
     },
     "output_type": "display_data"
    }
   ],
   "source": [
    "train_df = create_date_features(train_df)\n",
    "\n",
    "train_df.sort_values(by=['Store','Date'],inplace=True)\n",
    "\n",
    "\n",
    "# Check for direct and indirect seasonality \n",
    "df_Store = train_df.loc[train_df.Store==6,[\"Date\",\"Sales\"]]\n",
    "fig = plt.figure(figsize=(12,8))\n",
    "ax = fig.add_subplot(211)\n",
    "fig = plot_acf(df_Store[\"Sales\"],lags=40,ax=ax)\n",
    "\n"
   ]
  },
  {
   "cell_type": "code",
   "execution_count": 15,
   "metadata": {
    "execution": {
     "iopub.execute_input": "2021-08-20T15:36:06.829061Z",
     "iopub.status.busy": "2021-08-20T15:36:06.828129Z",
     "iopub.status.idle": "2021-08-20T15:36:18.667441Z",
     "shell.execute_reply": "2021-08-20T15:36:18.666754Z",
     "shell.execute_reply.started": "2021-08-20T13:32:12.68238Z"
    },
    "papermill": {
     "duration": 11.871171,
     "end_time": "2021-08-20T15:36:18.667582",
     "exception": false,
     "start_time": "2021-08-20T15:36:06.796411",
     "status": "completed"
    },
    "tags": []
   },
   "outputs": [],
   "source": [
    "train_df = lag_features(train_df, [14, 30, 60,365])\n",
    "\n",
    "alphas = [0.9, 0.8, 0.7, 0.5]\n",
    "lags = [14, 35, 60,365]\n",
    "train_df = ewm_features(train_df, alphas, lags)\n",
    "\n",
    "train_df = roll_mean_features(train_df, [14, 30, 60,365])"
   ]
  },
  {
   "cell_type": "code",
   "execution_count": 16,
   "metadata": {
    "execution": {
     "iopub.execute_input": "2021-08-20T15:36:18.744170Z",
     "iopub.status.busy": "2021-08-20T15:36:18.721501Z",
     "iopub.status.idle": "2021-08-20T15:36:18.748815Z",
     "shell.execute_reply": "2021-08-20T15:36:18.748186Z",
     "shell.execute_reply.started": "2021-08-20T13:32:23.913488Z"
    },
    "papermill": {
     "duration": 0.056841,
     "end_time": "2021-08-20T15:36:18.748949",
     "exception": false,
     "start_time": "2021-08-20T15:36:18.692108",
     "status": "completed"
    },
    "tags": []
   },
   "outputs": [
    {
     "data": {
      "text/html": [
       "<div>\n",
       "<style scoped>\n",
       "    .dataframe tbody tr th:only-of-type {\n",
       "        vertical-align: middle;\n",
       "    }\n",
       "\n",
       "    .dataframe tbody tr th {\n",
       "        vertical-align: top;\n",
       "    }\n",
       "\n",
       "    .dataframe thead th {\n",
       "        text-align: right;\n",
       "    }\n",
       "</style>\n",
       "<table border=\"1\" class=\"dataframe\">\n",
       "  <thead>\n",
       "    <tr style=\"text-align: right;\">\n",
       "      <th></th>\n",
       "      <th>Store</th>\n",
       "      <th>DayOfWeek</th>\n",
       "      <th>Date</th>\n",
       "      <th>Sales</th>\n",
       "      <th>Customers</th>\n",
       "      <th>Open</th>\n",
       "      <th>Promo</th>\n",
       "      <th>StateHoliday</th>\n",
       "      <th>SchoolHoliday</th>\n",
       "      <th>Year</th>\n",
       "      <th>...</th>\n",
       "      <th>sales_ewm_alpha_07_lag_60</th>\n",
       "      <th>sales_ewm_alpha_07_lag_365</th>\n",
       "      <th>sales_ewm_alpha_05_lag_14</th>\n",
       "      <th>sales_ewm_alpha_05_lag_35</th>\n",
       "      <th>sales_ewm_alpha_05_lag_60</th>\n",
       "      <th>sales_ewm_alpha_05_lag_365</th>\n",
       "      <th>sales_roll_mean_14</th>\n",
       "      <th>sales_roll_mean_30</th>\n",
       "      <th>sales_roll_mean_60</th>\n",
       "      <th>sales_roll_mean_365</th>\n",
       "    </tr>\n",
       "  </thead>\n",
       "  <tbody>\n",
       "    <tr>\n",
       "      <th>1016271</th>\n",
       "      <td>1115</td>\n",
       "      <td>1</td>\n",
       "      <td>2015-07-27</td>\n",
       "      <td>10712</td>\n",
       "      <td>608</td>\n",
       "      <td>1</td>\n",
       "      <td>1</td>\n",
       "      <td>0</td>\n",
       "      <td>1</td>\n",
       "      <td>2015</td>\n",
       "      <td>...</td>\n",
       "      <td>6190.677460</td>\n",
       "      <td>2162.316325</td>\n",
       "      <td>6908.736209</td>\n",
       "      <td>4526.414092</td>\n",
       "      <td>5805.458807</td>\n",
       "      <td>3341.648129</td>\n",
       "      <td>5814.500000</td>\n",
       "      <td>5878.800000</td>\n",
       "      <td>5942.600000</td>\n",
       "      <td>5817.715068</td>\n",
       "    </tr>\n",
       "    <tr>\n",
       "      <th>1016270</th>\n",
       "      <td>1115</td>\n",
       "      <td>2</td>\n",
       "      <td>2015-07-28</td>\n",
       "      <td>8093</td>\n",
       "      <td>500</td>\n",
       "      <td>1</td>\n",
       "      <td>1</td>\n",
       "      <td>0</td>\n",
       "      <td>1</td>\n",
       "      <td>2015</td>\n",
       "      <td>...</td>\n",
       "      <td>7483.103238</td>\n",
       "      <td>6599.394897</td>\n",
       "      <td>7235.368104</td>\n",
       "      <td>4841.707046</td>\n",
       "      <td>6921.229404</td>\n",
       "      <td>5921.324064</td>\n",
       "      <td>5852.428571</td>\n",
       "      <td>6148.566667</td>\n",
       "      <td>5943.533333</td>\n",
       "      <td>5816.597260</td>\n",
       "    </tr>\n",
       "    <tr>\n",
       "      <th>1016269</th>\n",
       "      <td>1115</td>\n",
       "      <td>3</td>\n",
       "      <td>2015-07-29</td>\n",
       "      <td>7661</td>\n",
       "      <td>473</td>\n",
       "      <td>1</td>\n",
       "      <td>1</td>\n",
       "      <td>0</td>\n",
       "      <td>1</td>\n",
       "      <td>2015</td>\n",
       "      <td>...</td>\n",
       "      <td>8704.530971</td>\n",
       "      <td>7033.818469</td>\n",
       "      <td>6637.184052</td>\n",
       "      <td>5152.353523</td>\n",
       "      <td>8074.614702</td>\n",
       "      <td>6570.662032</td>\n",
       "      <td>5968.285714</td>\n",
       "      <td>6037.066667</td>\n",
       "      <td>5917.416667</td>\n",
       "      <td>5817.805479</td>\n",
       "    </tr>\n",
       "    <tr>\n",
       "      <th>1016268</th>\n",
       "      <td>1115</td>\n",
       "      <td>4</td>\n",
       "      <td>2015-07-30</td>\n",
       "      <td>8405</td>\n",
       "      <td>502</td>\n",
       "      <td>1</td>\n",
       "      <td>1</td>\n",
       "      <td>0</td>\n",
       "      <td>1</td>\n",
       "      <td>2015</td>\n",
       "      <td>...</td>\n",
       "      <td>2611.359291</td>\n",
       "      <td>7477.045541</td>\n",
       "      <td>6613.592026</td>\n",
       "      <td>5083.676761</td>\n",
       "      <td>4037.307351</td>\n",
       "      <td>7118.831016</td>\n",
       "      <td>6097.928571</td>\n",
       "      <td>6030.233333</td>\n",
       "      <td>6057.500000</td>\n",
       "      <td>5819.827397</td>\n",
       "    </tr>\n",
       "    <tr>\n",
       "      <th>1016267</th>\n",
       "      <td>1115</td>\n",
       "      <td>5</td>\n",
       "      <td>2015-07-31</td>\n",
       "      <td>8680</td>\n",
       "      <td>538</td>\n",
       "      <td>1</td>\n",
       "      <td>1</td>\n",
       "      <td>0</td>\n",
       "      <td>1</td>\n",
       "      <td>2015</td>\n",
       "      <td>...</td>\n",
       "      <td>6669.707787</td>\n",
       "      <td>7878.113662</td>\n",
       "      <td>7243.796013</td>\n",
       "      <td>5316.338381</td>\n",
       "      <td>6223.153675</td>\n",
       "      <td>7584.415508</td>\n",
       "      <td>6155.500000</td>\n",
       "      <td>6062.866667</td>\n",
       "      <td>6062.016667</td>\n",
       "      <td>5821.553425</td>\n",
       "    </tr>\n",
       "  </tbody>\n",
       "</table>\n",
       "<p>5 rows × 53 columns</p>\n",
       "</div>"
      ],
      "text/plain": [
       "         Store  DayOfWeek       Date  Sales  Customers  Open  Promo  \\\n",
       "1016271   1115          1 2015-07-27  10712        608     1      1   \n",
       "1016270   1115          2 2015-07-28   8093        500     1      1   \n",
       "1016269   1115          3 2015-07-29   7661        473     1      1   \n",
       "1016268   1115          4 2015-07-30   8405        502     1      1   \n",
       "1016267   1115          5 2015-07-31   8680        538     1      1   \n",
       "\n",
       "        StateHoliday  SchoolHoliday  Year  ... sales_ewm_alpha_07_lag_60  \\\n",
       "1016271            0              1  2015  ...               6190.677460   \n",
       "1016270            0              1  2015  ...               7483.103238   \n",
       "1016269            0              1  2015  ...               8704.530971   \n",
       "1016268            0              1  2015  ...               2611.359291   \n",
       "1016267            0              1  2015  ...               6669.707787   \n",
       "\n",
       "         sales_ewm_alpha_07_lag_365 sales_ewm_alpha_05_lag_14  \\\n",
       "1016271                 2162.316325               6908.736209   \n",
       "1016270                 6599.394897               7235.368104   \n",
       "1016269                 7033.818469               6637.184052   \n",
       "1016268                 7477.045541               6613.592026   \n",
       "1016267                 7878.113662               7243.796013   \n",
       "\n",
       "        sales_ewm_alpha_05_lag_35  sales_ewm_alpha_05_lag_60  \\\n",
       "1016271               4526.414092                5805.458807   \n",
       "1016270               4841.707046                6921.229404   \n",
       "1016269               5152.353523                8074.614702   \n",
       "1016268               5083.676761                4037.307351   \n",
       "1016267               5316.338381                6223.153675   \n",
       "\n",
       "         sales_ewm_alpha_05_lag_365  sales_roll_mean_14  sales_roll_mean_30  \\\n",
       "1016271                 3341.648129         5814.500000         5878.800000   \n",
       "1016270                 5921.324064         5852.428571         6148.566667   \n",
       "1016269                 6570.662032         5968.285714         6037.066667   \n",
       "1016268                 7118.831016         6097.928571         6030.233333   \n",
       "1016267                 7584.415508         6155.500000         6062.866667   \n",
       "\n",
       "         sales_roll_mean_60  sales_roll_mean_365  \n",
       "1016271         5942.600000          5817.715068  \n",
       "1016270         5943.533333          5816.597260  \n",
       "1016269         5917.416667          5817.805479  \n",
       "1016268         6057.500000          5819.827397  \n",
       "1016267         6062.016667          5821.553425  \n",
       "\n",
       "[5 rows x 53 columns]"
      ]
     },
     "execution_count": 16,
     "metadata": {},
     "output_type": "execute_result"
    }
   ],
   "source": [
    "train_df.tail()"
   ]
  },
  {
   "cell_type": "markdown",
   "metadata": {
    "papermill": {
     "duration": 0.024497,
     "end_time": "2021-08-20T15:36:18.798555",
     "exception": false,
     "start_time": "2021-08-20T15:36:18.774058",
     "status": "completed"
    },
    "tags": []
   },
   "source": [
    "# Training and testing with baseline model"
   ]
  },
  {
   "cell_type": "code",
   "execution_count": 17,
   "metadata": {
    "execution": {
     "iopub.execute_input": "2021-08-20T15:36:18.855762Z",
     "iopub.status.busy": "2021-08-20T15:36:18.854765Z",
     "iopub.status.idle": "2021-08-20T15:36:18.857496Z",
     "shell.execute_reply": "2021-08-20T15:36:18.857967Z",
     "shell.execute_reply.started": "2021-08-20T13:32:23.942224Z"
    },
    "papermill": {
     "duration": 0.034556,
     "end_time": "2021-08-20T15:36:18.858153",
     "exception": false,
     "start_time": "2021-08-20T15:36:18.823597",
     "status": "completed"
    },
    "tags": []
   },
   "outputs": [],
   "source": [
    "train_df.set_index(\"Date\",inplace=True)"
   ]
  },
  {
   "cell_type": "code",
   "execution_count": 18,
   "metadata": {
    "execution": {
     "iopub.execute_input": "2021-08-20T15:36:18.917759Z",
     "iopub.status.busy": "2021-08-20T15:36:18.916177Z",
     "iopub.status.idle": "2021-08-20T15:36:21.506426Z",
     "shell.execute_reply": "2021-08-20T15:36:21.506996Z",
     "shell.execute_reply.started": "2021-08-20T13:32:23.953473Z"
    },
    "papermill": {
     "duration": 2.624024,
     "end_time": "2021-08-20T15:36:21.507177",
     "exception": false,
     "start_time": "2021-08-20T15:36:18.883153",
     "status": "completed"
    },
    "tags": []
   },
   "outputs": [],
   "source": [
    "# Spliting into features and target values and removing unneccasary columns\n",
    "train_y = train_df[\"Sales\"]\n",
    "\n",
    "train_X = train_df.drop(columns=[\"Sales\",'Promo2SinceWeek',\n",
    "       'Promo2SinceYear', 'PromoInterval','PromoInterval','CompetitionDistance',\n",
    "       'CompetitionOpenSinceMonth', 'CompetitionOpenSinceYear','day_name'])\n",
    "\n",
    "train_X[\"StateHoliday\"] = train_X[\"StateHoliday\"].apply(str)\n",
    "#train_X[\"Store\"] = train_X[\"Store\"].apply(str)\n",
    "\n",
    "# Hot encoding categorical values\n",
    "train_X = pd.get_dummies(train_X)\n",
    "train_X['StateHoliday0'] = train_X['StateHoliday_0'].apply(int) + train_X['StateHoliday_0'].apply(int)\n",
    "train_X.drop(columns='StateHoliday_0',inplace=True)\n"
   ]
  },
  {
   "cell_type": "code",
   "execution_count": 19,
   "metadata": {
    "execution": {
     "iopub.execute_input": "2021-08-20T15:36:21.560142Z",
     "iopub.status.busy": "2021-08-20T15:36:21.559479Z",
     "iopub.status.idle": "2021-08-20T15:36:21.949201Z",
     "shell.execute_reply": "2021-08-20T15:36:21.949754Z",
     "shell.execute_reply.started": "2021-08-20T13:32:25.887857Z"
    },
    "papermill": {
     "duration": 0.417754,
     "end_time": "2021-08-20T15:36:21.949951",
     "exception": false,
     "start_time": "2021-08-20T15:36:21.532197",
     "status": "completed"
    },
    "tags": []
   },
   "outputs": [],
   "source": [
    "X_train = train_X.loc['2013-01-01':'2015-05-02']\n",
    "X_test  = train_X.loc['2015-05-03':'2015-07-31']\n",
    "\n",
    "y_train = train_y.loc['2013-01-01':'2015-05-02']\n",
    "y_test  = train_y.loc['2015-05-03':'2015-07-31']\n"
   ]
  },
  {
   "cell_type": "code",
   "execution_count": 20,
   "metadata": {
    "execution": {
     "iopub.execute_input": "2021-08-20T15:36:22.003442Z",
     "iopub.status.busy": "2021-08-20T15:36:22.002761Z",
     "iopub.status.idle": "2021-08-20T15:36:41.111281Z",
     "shell.execute_reply": "2021-08-20T15:36:41.111860Z",
     "shell.execute_reply.started": "2021-08-20T13:32:26.256884Z"
    },
    "papermill": {
     "duration": 19.136911,
     "end_time": "2021-08-20T15:36:41.112081",
     "exception": false,
     "start_time": "2021-08-20T15:36:21.975170",
     "status": "completed"
    },
    "tags": []
   },
   "outputs": [],
   "source": [
    "model = LGBMRegressor()\n",
    "\n",
    "model.fit(X_train, y_train)\n",
    "\n",
    "pred = model.predict(X_test)\n",
    "pred[pred<=0] = 0"
   ]
  },
  {
   "cell_type": "code",
   "execution_count": 21,
   "metadata": {
    "execution": {
     "iopub.execute_input": "2021-08-20T15:36:41.171066Z",
     "iopub.status.busy": "2021-08-20T15:36:41.169929Z",
     "iopub.status.idle": "2021-08-20T15:36:41.177342Z",
     "shell.execute_reply": "2021-08-20T15:36:41.178303Z",
     "shell.execute_reply.started": "2021-08-20T13:32:41.243009Z"
    },
    "papermill": {
     "duration": 0.038951,
     "end_time": "2021-08-20T15:36:41.178588",
     "exception": false,
     "start_time": "2021-08-20T15:36:41.139637",
     "status": "completed"
    },
    "tags": []
   },
   "outputs": [
    {
     "name": "stdout",
     "output_type": "stream",
     "text": [
      "R2_score : 0.9654127996459239\n",
      "Mean absolute error value : 479.65071790847196\n"
     ]
    }
   ],
   "source": [
    "print('R2_score :',r2_score(y_test.values,pred))\n",
    "print('Mean absolute error value :',mean_absolute_error(y_test.values,pred))"
   ]
  },
  {
   "cell_type": "code",
   "execution_count": 22,
   "metadata": {
    "execution": {
     "iopub.execute_input": "2021-08-20T15:36:41.262758Z",
     "iopub.status.busy": "2021-08-20T15:36:41.258289Z",
     "iopub.status.idle": "2021-08-20T15:36:41.455263Z",
     "shell.execute_reply": "2021-08-20T15:36:41.454508Z",
     "shell.execute_reply.started": "2021-08-20T13:32:41.253777Z"
    },
    "papermill": {
     "duration": 0.250359,
     "end_time": "2021-08-20T15:36:41.455412",
     "exception": false,
     "start_time": "2021-08-20T15:36:41.205053",
     "status": "completed"
    },
    "tags": []
   },
   "outputs": [
    {
     "data": {
      "image/png": "[encoded data removed]",
      "text/plain": [
       "<Figure size 1200x500 with 1 Axes>"
      ]
     },
     "metadata": {
      "needs_background": "light"
     },
     "output_type": "display_data"
    }
   ],
   "source": [
    "# Plot\n",
    "plt.figure(figsize=(12,5), dpi=100)\n",
    "plt.plot(pred[:200], label='actual')\n",
    "plt.plot(y_test.values[:200], label='forecast')\n",
    "plt.title('Forecast vs Actuals')\n",
    "plt.legend(loc='upper left', fontsize=8)\n",
    "plt.show()"
   ]
  }
 ],
 "metadata": {
  "kernelspec": {
   "display_name": "Python 3",
   "language": "python",
   "name": "python3"
  },
  "language_info": {
   "codemirror_mode": {
    "name": "ipython",
    "version": 3
   },
   "file_extension": ".py",
   "mimetype": "text/x-python",
   "name": "python",
   "nbconvert_exporter": "python",
   "pygments_lexer": "ipython3",
   "version": "3.8.5"
  },
  "papermill": {
   "default_parameters": {},
   "duration": 126.756476,
   "end_time": "2021-08-20T15:36:42.596611",
   "environment_variables": {},
   "exception": null,
   "input_path": "__notebook__.ipynb",
   "output_path": "__notebook__.ipynb",
   "parameters": {},
   "start_time": "2021-08-20T15:34:35.840135",
   "version": "2.3.3"
  }
 },
 "nbformat": 4,
 "nbformat_minor": 5
}
